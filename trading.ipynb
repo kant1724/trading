{
 "cells": [
  {
   "cell_type": "code",
   "execution_count": 1,
   "metadata": {},
   "outputs": [],
   "source": [
    "import pandas as pd"
   ]
  },
  {
   "cell_type": "code",
   "execution_count": 6,
   "metadata": {
    "scrolled": false
   },
   "outputs": [],
   "source": [
    "all_df = pd.read_csv('./2016.txt', encoding='euckr', sep='\\t')"
   ]
  },
  {
   "cell_type": "code",
   "execution_count": null,
   "metadata": {},
   "outputs": [],
   "source": []
  },
  {
   "cell_type": "code",
   "execution_count": 11,
   "metadata": {},
   "outputs": [
    {
     "data": {
      "text/plain": [
       "자산 [abstract]                        1848\n",
       "자본 [abstract]                        1845\n",
       "   부채총계                              1840\n",
       "   자산총계                              1837\n",
       "부채  [abstract]                       1835\n",
       "      현금및현금성자산                       1826\n",
       "   유동자산                              1815\n",
       "   유동부채                              1815\n",
       "   자본총계                              1808\n",
       "   비유동자산                             1807\n",
       "      유형자산                           1802\n",
       "   비유동부채                             1802\n",
       "      재고자산                           1644\n",
       "자본과부채총계                              1552\n",
       "      무형자산                           1408\n",
       "      단기차입금                          1153\n",
       "   이익잉여금(결손금)                        1148\n",
       "      기타유동자산                         1142\n",
       "      기타유동부채                         1112\n",
       "      당기법인세부채                        1089\n",
       "      이연법인세자산                        1035\n",
       "      매도가능금융자산                        985\n",
       "   자본금                                984\n",
       "      장기차입금                           970\n",
       "   기타자본구성요소                           944\n",
       "      이연법인세부채                         928\n",
       "      투자부동산                           911\n",
       "   납입자본                               796\n",
       "      당기법인세자산                         789\n",
       "      자본금                             754\n",
       "                                     ... \n",
       "   매각예정기타포괄손익 누계액                       1\n",
       "      기타금융자산(장기)                        1\n",
       "      5. 유동성전환사채                        1\n",
       "      종속기업, 관계기업과 공동지배기업에 대한 투자자산       1\n",
       "         기타유동금융자산                       1\n",
       "         투자건물                           1\n",
       "      위탁영업예치금                           1\n",
       "      (6)선수금                            1\n",
       "         공사원가충당부채                       1\n",
       "      종속기업,공동지배기업 및 관계기업투자              1\n",
       "         장기예수보증금                        1\n",
       "      종속기업및공동지배기업투자자산                   1\n",
       "      비유동상환전환우선주                        1\n",
       "      장기기타충당부채                          1\n",
       "      매입채무 및 기타유동부채                     1\n",
       "         선박정기수리                         1\n",
       "         장기수입보증금                        1\n",
       "         공기구감가상각누계액                     1\n",
       "      종속기업, 조인트벤처 투자                    1\n",
       "         공구와기구 감가상각충당금                  1\n",
       "      2.매입채무                            1\n",
       "      종속기업ㆍ관계기업및조인트벤처투자                 1\n",
       "         매입채무 및 기타채무                    1\n",
       "   지배지분                                 1\n",
       "      (2)퇴직급여채무                         1\n",
       "         장기예수금                          1\n",
       "      매도금융자산                            1\n",
       "         미지급금 및 기타채무                    1\n",
       "      비금융자산                             1\n",
       "      채권할인차입금                           1\n",
       "Name: 항목명, Length: 2687, dtype: int64"
      ]
     },
     "execution_count": 11,
     "metadata": {},
     "output_type": "execute_result"
    }
   ],
   "source": [
    "all_df['항목명'].value_counts()"
   ]
  },
  {
   "cell_type": "code",
   "execution_count": null,
   "metadata": {},
   "outputs": [],
   "source": []
  }
 ],
 "metadata": {
  "kernelspec": {
   "display_name": "Python 3",
   "language": "python",
   "name": "python3"
  },
  "language_info": {
   "codemirror_mode": {
    "name": "ipython",
    "version": 3
   },
   "file_extension": ".py",
   "mimetype": "text/x-python",
   "name": "python",
   "nbconvert_exporter": "python",
   "pygments_lexer": "ipython3",
   "version": "3.7.3"
  }
 },
 "nbformat": 4,
 "nbformat_minor": 2
}
